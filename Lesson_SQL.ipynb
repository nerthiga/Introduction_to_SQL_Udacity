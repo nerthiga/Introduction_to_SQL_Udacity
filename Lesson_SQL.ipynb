{
  "nbformat": 4,
  "nbformat_minor": 0,
  "metadata": {
    "colab": {
      "name": "Lesson1_SQL.ipynb",
      "provenance": [],
      "authorship_tag": "ABX9TyMltqeYD4CWlo2rybtDCZu2",
      "include_colab_link": true
    },
    "kernelspec": {
      "name": "python3",
      "display_name": "Python 3"
    }
  },
  "cells": [
    {
      "cell_type": "markdown",
      "metadata": {
        "id": "view-in-github",
        "colab_type": "text"
      },
      "source": [
        "<a href=\"https://colab.research.google.com/github/nerthiga/Introduction_to_SQL_Udacity/blob/main/Lesson_SQL.ipynb\" target=\"_parent\"><img src=\"https://colab.research.google.com/assets/colab-badge.svg\" alt=\"Open In Colab\"/></a>"
      ]
    },
    {
      "cell_type": "code",
      "metadata": {
        "id": "XOwivkL_JLiQ"
      },
      "source": [
        "SELECT standard_amt_usd, DATE_TRUNC('year',occurred_at) as year, \n",
        "SUM(standard_amt_usd) OVER (PARTITION BY DATE_TRUNC('year',occurred_at) \n",
        "ORDER BY occurred_at) as running_total\n",
        "FROM orders;"
      ],
      "execution_count": null,
      "outputs": []
    }
  ]
}