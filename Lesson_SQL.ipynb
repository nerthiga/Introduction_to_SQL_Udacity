{
  "nbformat": 4,
  "nbformat_minor": 0,
  "metadata": {
    "colab": {
      "name": "Lesson1_SQL.ipynb",
      "provenance": [],
      "authorship_tag": "ABX9TyM0aGEv7hRfBPOP6kuVneDz",
      "include_colab_link": true
    },
    "kernelspec": {
      "name": "python3",
      "display_name": "Python 3"
    }
  },
  "cells": [
    {
      "cell_type": "markdown",
      "metadata": {
        "id": "view-in-github",
        "colab_type": "text"
      },
      "source": [
        "<a href=\"https://colab.research.google.com/github/nerthiga/Introduction_to_SQL_Udacity/blob/main/Lesson_SQL.ipynb\" target=\"_parent\"><img src=\"https://colab.research.google.com/assets/colab-badge.svg\" alt=\"Open In Colab\"/></a>"
      ]
    },
    {
      "cell_type": "code",
      "metadata": {
        "id": "LWeHswcQWwXh"
      },
      "source": [
        "SELECT a.name, a.id, w.channel, COUNT(w.channel) AS num_times\n",
        "FROM accounts a\n",
        "JOIN web_events w\n",
        "ON w.account_id = a.id\n",
        "GROUP BY a.id,a.name, w.channel\n",
        "HAVING COUNT(w.channel)>6 AND w.channel = 'facebook'\n",
        "ORDER BY num_times;"
      ],
      "execution_count": null,
      "outputs": []
    },
    {
      "cell_type": "code",
      "metadata": {
        "id": "NOrplsgGXZcU"
      },
      "source": [
        "SELECT DATE_PART('month',occurred_at) AS max_month, SUM(o.total_amt_usd) AS total\n",
        "FROM orders o\n",
        "WHERE occurred_at BETWEEN '2014-01-01' AND '2017-01-01'\n",
        "GROUP BY DATE_PART('month',occurred_at)\n",
        "ORDER BY total DESC\n",
        "LIMIT 1;"
      ],
      "execution_count": null,
      "outputs": []
    },
    {
      "cell_type": "code",
      "metadata": {
        "id": "gccbY82MX4pC"
      },
      "source": [
        "SELECT CASE WHEN total>=2000 THEN 'At least 2000' WHEN total>=1000 AND total<2000 \n",
        "THEN 'Between 1000 and 2000' ELSE 'Less than 1000' END AS catogery, COUNT(*) AS num\n",
        "FROM orders\n",
        "GROUP BY 1;"
      ],
      "execution_count": null,
      "outputs": []
    },
    {
      "cell_type": "code",
      "metadata": {
        "id": "QALDBx3czJSe"
      },
      "source": [
        "WITH t1 AS (SELECT r.name AS region, s.name AS    name, SUM(o.total_amt_usd) AS total\n",
        "FROM orders o\n",
        "JOIN accounts a\n",
        "ON o.account_id = a.id\n",
        "JOIN sales_reps s\n",
        "ON a.sales_rep_id = s.id\n",
        "JOIN region r\n",
        "On r.id=s.region_id\n",
        "GROUP BY 1,2\n",
        "ORDER BY 3 DESC),\n",
        "\n",
        "t2 AS (SELECT region, MAX(total) AS total_amt\n",
        "       FROM t1\n",
        "       GROUP BY 1)\n",
        "       \n",
        "SELECT t1.name, t2.region, t2.total_amt\n",
        "FROM t1\n",
        "JOIN t2\n",
        "ON t2.region=t1.region AND t2.total_amt=t1.total;"
      ],
      "execution_count": null,
      "outputs": []
    }
  ]
}