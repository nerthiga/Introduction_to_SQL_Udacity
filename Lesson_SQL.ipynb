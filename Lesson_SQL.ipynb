{
  "nbformat": 4,
  "nbformat_minor": 0,
  "metadata": {
    "colab": {
      "name": "Lesson1_SQL.ipynb",
      "provenance": [],
      "authorship_tag": "ABX9TyOel3axHjWmYiqAnKTVpDVa",
      "include_colab_link": true
    },
    "kernelspec": {
      "name": "python3",
      "display_name": "Python 3"
    }
  },
  "cells": [
    {
      "cell_type": "markdown",
      "metadata": {
        "id": "view-in-github",
        "colab_type": "text"
      },
      "source": [
        "<a href=\"https://colab.research.google.com/github/nerthiga/Introduction_to_SQL_Udacity/blob/main/Lesson_SQL.ipynb\" target=\"_parent\"><img src=\"https://colab.research.google.com/assets/colab-badge.svg\" alt=\"Open In Colab\"/></a>"
      ]
    },
    {
      "cell_type": "code",
      "metadata": {
        "id": "_ayagnLDPatL"
      },
      "source": [
        "SELECT r.name AS region, SUM(o.total_amt_usd) AS total\n",
        "      FROM orders o\n",
        "      JOIN accounts a\n",
        "      ON o.account_id = a.id\n",
        "      JOIN sales_reps s\n",
        "      ON a.sales_rep_id = s.id\n",
        "      JOIN region r\n",
        "      On r.id=s.region_id\n",
        "      GROUP BY 1"
      ],
      "execution_count": null,
      "outputs": []
    },
    {
      "cell_type": "code",
      "metadata": {
        "id": "5DIUcdZwPb8q"
      },
      "source": [
        "SELECT MAX(total)\n",
        " FROM\n",
        "   (SELECT r.name AS region, SUM(o.total_amt_usd) AS total\n",
        "      FROM orders o\n",
        "      JOIN accounts a\n",
        "      ON o.account_id = a.id\n",
        "      JOIN sales_reps s\n",
        "      ON a.sales_rep_id = s.id\n",
        "      JOIN region r\n",
        "      On r.id=s.region_id\n",
        "      GROUP BY 1)sub"
      ],
      "execution_count": null,
      "outputs": []
    },
    {
      "cell_type": "code",
      "metadata": {
        "id": "GLmaTU63P3KY"
      },
      "source": [
        "SELECT r.name, COUNT(o.total) as total_count\n",
        "FROM orders o\n",
        "      JOIN accounts a\n",
        "      ON o.account_id = a.id\n",
        "      JOIN sales_reps s\n",
        "      ON a.sales_rep_id = s.id\n",
        "      JOIN region r\n",
        "      On r.id=s.region_id\n",
        "      GROUP BY 1\n",
        "HAVING SUM(o.total_amt_usd)=      \n",
        "(SELECT MAX(total)\n",
        " FROM\n",
        "   (SELECT r.name AS region,               SUM(o.total_amt_usd) AS total\n",
        "      FROM orders o\n",
        "      JOIN accounts a\n",
        "      ON o.account_id = a.id\n",
        "      JOIN sales_reps s\n",
        "      ON a.sales_rep_id = s.id\n",
        "      JOIN region r\n",
        "      On r.id=s.region_id\n",
        "      GROUP BY 1)sub);"
      ],
      "execution_count": null,
      "outputs": []
    },
    {
      "cell_type": "code",
      "metadata": {
        "id": "0OJzMJGTV0_Y"
      },
      "source": [
        "WITH t1 AS (SELECT r.name AS region,                     SUM(o.total_amt_usd) AS total\n",
        "      FROM orders o\n",
        "      JOIN accounts a\n",
        "      ON o.account_id = a.id\n",
        "      JOIN sales_reps s\n",
        "      ON a.sales_rep_id = s.id\n",
        "      JOIN region r\n",
        "      On r.id=s.region_id\n",
        "      GROUP BY 1),\n",
        "      \n",
        "t2 AS (SELECT MAX(total)\n",
        "       FROM t1)\n",
        "       \n",
        " SELECT r.name, COUNT(o.total) as total_count\n",
        "FROM orders o\n",
        "      JOIN accounts a\n",
        "      ON o.account_id = a.id\n",
        "      JOIN sales_reps s\n",
        "      ON a.sales_rep_id = s.id\n",
        "      JOIN region r\n",
        "      On r.id=s.region_id\n",
        "      GROUP BY 1\n",
        "HAVING SUM(o.total_amt_usd) = (SELECT * FROM t2);"
      ],
      "execution_count": null,
      "outputs": []
    },
    {
      "cell_type": "code",
      "metadata": {
        "id": "LOWNQcfIWFGi"
      },
      "source": [
        "WITH t1 AS (SELECT AVG(o.total_amt_usd) as tot_avg\n",
        "FROM orders o),\n",
        "                     \n",
        "t2 AS (SELECT o.account_id, AVG(o.total_amt_usd) as avg\n",
        "FROM orders o\n",
        "GROUP BY 1\n",
        "HAVING AVG(total_amt_usd)> (SELECT tot_avg FROM t1))\n",
        "       \n",
        "SELECT AVG(avg)\n",
        "FROM t2;      "
      ],
      "execution_count": null,
      "outputs": []
    }
  ]
}