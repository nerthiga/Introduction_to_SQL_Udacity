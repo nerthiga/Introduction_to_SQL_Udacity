{
  "nbformat": 4,
  "nbformat_minor": 0,
  "metadata": {
    "colab": {
      "name": "Lesson1_SQL.ipynb",
      "provenance": [],
      "authorship_tag": "ABX9TyPn9vpA4TnlZRDvEzPlbBIq",
      "include_colab_link": true
    },
    "kernelspec": {
      "name": "python3",
      "display_name": "Python 3"
    }
  },
  "cells": [
    {
      "cell_type": "markdown",
      "metadata": {
        "id": "view-in-github",
        "colab_type": "text"
      },
      "source": [
        "<a href=\"https://colab.research.google.com/github/nerthiga/Introduction_to_SQL_Udacity/blob/main/Lesson_SQL.ipynb\" target=\"_parent\"><img src=\"https://colab.research.google.com/assets/colab-badge.svg\" alt=\"Open In Colab\"/></a>"
      ]
    },
    {
      "cell_type": "code",
      "metadata": {
        "id": "XOwivkL_JLiQ"
      },
      "source": [
        "SELECT standard_amt_usd, DATE_TRUNC('year',occurred_at) as year, \n",
        "SUM(standard_amt_usd) OVER (PARTITION BY DATE_TRUNC('year',occurred_at) \n",
        "ORDER BY occurred_at) as running_total\n",
        "FROM orders;"
      ],
      "execution_count": null,
      "outputs": []
    },
    {
      "cell_type": "code",
      "metadata": {
        "id": "wrpoxcdPJ79K"
      },
      "source": [
        "SELECT id,\n",
        "       account_id,\n",
        "       DATE_TRUNC('year',occurred_at) AS year,\n",
        "       DENSE_RANK() OVER account_year_window AS dense_rank,\n",
        "       total_amt_usd,\n",
        "       SUM(total_amt_usd) OVER account_year_window AS sum_total_amt_usd,\n",
        "       COUNT(total_amt_usd) OVER account_year_window AS count_total_amt_usd,\n",
        "       AVG(total_amt_usd) OVER account_year_window AS avg_total_amt_usd,\n",
        "       MIN(total_amt_usd) OVER account_year_window AS min_total_amt_usd,\n",
        "       MAX(total_amt_usd) OVER account_year_window AS max_total_amt_usd\n",
        "FROM orders\n",
        "WINDOW account_year_window AS  (PARTITION BY account_id ORDER BY DATE_TRUNC('year',occurred_at))"
      ],
      "execution_count": null,
      "outputs": []
    },
    {
      "cell_type": "code",
      "metadata": {
        "id": "YerQI7ovKI82"
      },
      "source": [
        "SELECT account_id, occurred_at, standard_qty, NTILE(4)OVER(PARTITION BY account_id ORDER BY standard_qty) as quartile\n",
        "FROM orders \n",
        "ORDER BY account_id DESC;\n"
      ],
      "execution_count": null,
      "outputs": []
    }
  ]
}