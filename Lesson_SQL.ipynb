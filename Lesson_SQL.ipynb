{
  "nbformat": 4,
  "nbformat_minor": 0,
  "metadata": {
    "colab": {
      "name": "Lesson1_SQL.ipynb",
      "provenance": [],
      "authorship_tag": "ABX9TyM/LRt3b8GMB9iXl+GLMfYY",
      "include_colab_link": true
    },
    "kernelspec": {
      "name": "python3",
      "display_name": "Python 3"
    }
  },
  "cells": [
    {
      "cell_type": "markdown",
      "metadata": {
        "id": "view-in-github",
        "colab_type": "text"
      },
      "source": [
        "<a href=\"https://colab.research.google.com/github/nerthiga/Introduction_to_SQL_Udacity/blob/main/Lesson_SQL.ipynb\" target=\"_parent\"><img src=\"https://colab.research.google.com/assets/colab-badge.svg\" alt=\"Open In Colab\"/></a>"
      ]
    },
    {
      "cell_type": "code",
      "metadata": {
        "id": "oi-1GOCgZNC3"
      },
      "source": [
        "SELECT LEFT(primary_poc, STRPOS(primary_poc, ' ') -1 ) first_name, \n",
        "RIGHT(primary_poc, LENGTH(primary_poc) - STRPOS(primary_poc, ' ')) last_name\n",
        "FROM accounts;"
      ],
      "execution_count": null,
      "outputs": []
    },
    {
      "cell_type": "code",
      "metadata": {
        "id": "zdRUmZf8auWe"
      },
      "source": [
        "SELECT primary_poc, CONCAT(first_name,'.',last_name,'@',name,'.com') AS email_address\n",
        "FROM\n",
        "  (SELECT primary_poc, name, LEFT(primary_poc, STRPOS(primary_poc,' ')-1) AS first_name, RIGHT(primary_poc, LENGTH(primary_poc)-STRPOS(primary_poc,' ')) AS last_name\n",
        "  FROM accounts)query;  "
      ],
      "execution_count": null,
      "outputs": []
    }
  ]
}