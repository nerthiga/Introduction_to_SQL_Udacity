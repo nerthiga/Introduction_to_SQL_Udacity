{
  "nbformat": 4,
  "nbformat_minor": 0,
  "metadata": {
    "colab": {
      "name": "Lesson1_SQL.ipynb",
      "provenance": [],
      "authorship_tag": "ABX9TyN02DIffvH2rB2E3fsrPp66",
      "include_colab_link": true
    },
    "kernelspec": {
      "name": "python3",
      "display_name": "Python 3"
    }
  },
  "cells": [
    {
      "cell_type": "markdown",
      "metadata": {
        "id": "view-in-github",
        "colab_type": "text"
      },
      "source": [
        "<a href=\"https://colab.research.google.com/github/nerthiga/Introduction_to_SQL_Udacity/blob/main/Lesson_SQL.ipynb\" target=\"_parent\"><img src=\"https://colab.research.google.com/assets/colab-badge.svg\" alt=\"Open In Colab\"/></a>"
      ]
    },
    {
      "cell_type": "code",
      "metadata": {
        "id": "oi-1GOCgZNC3"
      },
      "source": [
        "SELECT LEFT(primary_poc, STRPOS(primary_poc, ' ') -1 ) first_name, \n",
        "RIGHT(primary_poc, LENGTH(primary_poc) - STRPOS(primary_poc, ' ')) last_name\n",
        "FROM accounts;"
      ],
      "execution_count": null,
      "outputs": []
    },
    {
      "cell_type": "code",
      "metadata": {
        "id": "zdRUmZf8auWe"
      },
      "source": [
        "SELECT primary_poc, CONCAT(first_name,'.',last_name,'@',name,'.com') AS email_address\n",
        "FROM\n",
        "  (SELECT primary_poc, name, LEFT(primary_poc, STRPOS(primary_poc,' ')-1) AS first_name, \n",
        "   RIGHT(primary_poc, LENGTH(primary_poc)-STRPOS(primary_poc,' ')) AS last_name\n",
        "  FROM accounts)query;  "
      ],
      "execution_count": null,
      "outputs": []
    },
    {
      "cell_type": "code",
      "metadata": {
        "id": "O4kUX7AebIlG"
      },
      "source": [
        "SELECT date AS original_date, (SUBSTR(date,7,4)||'-'||LEFT(date,2)||'-'||SUBSTR(date, 4,2)) AS formatted_date, \n",
        "(SUBSTR(date,7,4)||'-'||LEFT(date,2)||'-'||SUBSTR(date, 4,2))::DATE AS cleaned_date           \n",
        "FROM sf_crime_data;                               "
      ],
      "execution_count": null,
      "outputs": []
    },
    {
      "cell_type": "code",
      "metadata": {
        "id": "kTEfD4t6bZP0"
      },
      "source": [
        "SELECT COALESCE(a.id, a.id)AS filled_id, a.name, a.website, a.lat, a.long, a.primary_poc, a.sales_rep_id, o.*\n",
        "FROM accounts a\n",
        "LEFT JOIN orders o\n",
        "ON a.id = o.account_id\n",
        "WHERE o.total IS NULL;\n"
      ],
      "execution_count": null,
      "outputs": []
    }
  ]
}