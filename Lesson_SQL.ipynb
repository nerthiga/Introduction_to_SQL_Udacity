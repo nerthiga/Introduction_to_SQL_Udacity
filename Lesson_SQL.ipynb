{
  "nbformat": 4,
  "nbformat_minor": 0,
  "metadata": {
    "colab": {
      "name": "Lesson1_SQL.ipynb",
      "provenance": [],
      "authorship_tag": "ABX9TyMu5oK2k6K8/E5WBNXUTnNH",
      "include_colab_link": true
    },
    "kernelspec": {
      "name": "python3",
      "display_name": "Python 3"
    }
  },
  "cells": [
    {
      "cell_type": "markdown",
      "metadata": {
        "id": "view-in-github",
        "colab_type": "text"
      },
      "source": [
        "<a href=\"https://colab.research.google.com/github/nerthiga/Introduction_to_SQL_Udacity/blob/main/Lesson_SQL.ipynb\" target=\"_parent\"><img src=\"https://colab.research.google.com/assets/colab-badge.svg\" alt=\"Open In Colab\"/></a>"
      ]
    },
    {
      "cell_type": "code",
      "metadata": {
        "id": "LWeHswcQWwXh"
      },
      "source": [
        "SELECT a.name, a.id, w.channel, COUNT(w.channel) AS num_times\n",
        "FROM accounts a\n",
        "JOIN web_events w\n",
        "ON w.account_id = a.id\n",
        "GROUP BY a.id,a.name, w.channel\n",
        "HAVING COUNT(w.channel)>6 AND w.channel = 'facebook'\n",
        "ORDER BY num_times;"
      ],
      "execution_count": null,
      "outputs": []
    },
    {
      "cell_type": "code",
      "metadata": {
        "id": "NOrplsgGXZcU"
      },
      "source": [
        "SELECT DATE_PART('month',occurred_at) AS max_month, SUM(o.total_amt_usd) AS total\n",
        "FROM orders o\n",
        "WHERE occurred_at BETWEEN '2014-01-01' AND '2017-01-01'\n",
        "GROUP BY DATE_PART('month',occurred_at)\n",
        "ORDER BY total DESC\n",
        "LIMIT 1;"
      ],
      "execution_count": null,
      "outputs": []
    },
    {
      "cell_type": "code",
      "metadata": {
        "id": "gccbY82MX4pC"
      },
      "source": [
        "SELECT CASE WHEN total>=2000 THEN 'At least 2000' WHEN total>=1000 AND total<2000 \n",
        "THEN 'Between 1000 and 2000' ELSE 'Less than 1000' END AS catogery, COUNT(*) AS num\n",
        "FROM orders\n",
        "GROUP BY 1;"
      ],
      "execution_count": null,
      "outputs": []
    }
  ]
}