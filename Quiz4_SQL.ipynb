{
  "nbformat": 4,
  "nbformat_minor": 0,
  "metadata": {
    "colab": {
      "name": "Quiz_4.ipynb",
      "provenance": [],
      "authorship_tag": "ABX9TyNEABdmQZ90NRI/Iq2j1ZkS",
      "include_colab_link": true
    },
    "kernelspec": {
      "name": "python3",
      "display_name": "Python 3"
    }
  },
  "cells": [
    {
      "cell_type": "markdown",
      "metadata": {
        "id": "view-in-github",
        "colab_type": "text"
      },
      "source": [
        "<a href=\"https://colab.research.google.com/github/nerthiga/Introduction_to_SQL_Udacity/blob/main/Quiz4_SQL.ipynb\" target=\"_parent\"><img src=\"https://colab.research.google.com/assets/colab-badge.svg\" alt=\"Open In Colab\"/></a>"
      ]
    },
    {
      "cell_type": "code",
      "metadata": {
        "id": "UyNe_bYdU05i"
      },
      "source": [
        "SELECT AVG(standard_qty)AS st_avg, AVG(gloss_qty) AS gloss_avg, AVG(poster_qty) AS poster_avg\n",
        "FROM orders\n",
        "WHERE DATE_TRUNC('month', occurred_at)=\n",
        "(SELECT DATE_TRUNC('month', MIN(occurred_at)) AS      min_month\n",
        "FROM orders);"
      ],
      "execution_count": null,
      "outputs": []
    }
  ]
}