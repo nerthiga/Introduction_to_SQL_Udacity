{
  "nbformat": 4,
  "nbformat_minor": 0,
  "metadata": {
    "colab": {
      "name": "Quiz4_SQL.ipynb",
      "provenance": [],
      "authorship_tag": "ABX9TyMOHkHiS5se+xK0vFEm5M6+",
      "include_colab_link": true
    },
    "kernelspec": {
      "name": "python3",
      "display_name": "Python 3"
    }
  },
  "cells": [
    {
      "cell_type": "markdown",
      "metadata": {
        "id": "view-in-github",
        "colab_type": "text"
      },
      "source": [
        "<a href=\"https://colab.research.google.com/github/nerthiga/Introduction_to_SQL_Udacity/blob/main/Quiz4_SQL.ipynb\" target=\"_parent\"><img src=\"https://colab.research.google.com/assets/colab-badge.svg\" alt=\"Open In Colab\"/></a>"
      ]
    },
    {
      "cell_type": "code",
      "metadata": {
        "id": "UyNe_bYdU05i"
      },
      "source": [
        "SELECT AVG(standard_qty)AS st_avg, AVG(gloss_qty) AS gloss_avg, AVG(poster_qty) AS poster_avg\n",
        "FROM orders\n",
        "WHERE DATE_TRUNC('month', occurred_at)=\n",
        "(SELECT DATE_TRUNC('month', MIN(occurred_at)) AS      min_month\n",
        "FROM orders);"
      ],
      "execution_count": null,
      "outputs": []
    },
    {
      "cell_type": "code",
      "metadata": {
        "id": "KOChKi0pV1NW"
      },
      "source": [
        "SELECT t3.name, t2.region, t2.total_amt\n",
        "FROM\n",
        "  (SELECT region, MAX(total) AS total_amt\n",
        "  FROM \n",
        "     (SELECT r.name AS region, s.name AS name,           SUM(o.total_amt_usd) AS total\n",
        "      FROM orders o\n",
        "      JOIN accounts a\n",
        "      ON o.account_id = a.id\n",
        "      JOIN sales_reps s\n",
        "      ON a.sales_rep_id = s.id\n",
        "      JOIN region r\n",
        "      On r.id=s.region_id\n",
        "      GROUP BY 1,2) t1\n",
        "   GROUP BY 1)t2\n",
        "JOIN\n",
        "(SELECT r.name AS region, s.name AS name, SUM(o.total_amt_usd) AS total\n",
        "FROM orders o\n",
        "JOIN accounts a\n",
        "ON o.account_id = a.id\n",
        "JOIN sales_reps s\n",
        "ON a.sales_rep_id = s.id\n",
        "JOIN region r\n",
        "On r.id=s.region_id\n",
        "GROUP BY 1,2\n",
        "ORDER BY 3 DESC) t3\n",
        "ON t2.region=t3.region AND t2.total_amt=t3.total;"
      ],
      "execution_count": null,
      "outputs": []
    },
    {
      "cell_type": "code",
      "metadata": {
        "id": "NbVOsj0DWEhH"
      },
      "source": [
        "SELECT r.name, COUNT(o.total) as total_count\n",
        "FROM orders o\n",
        "      JOIN accounts a\n",
        "      ON o.account_id = a.id\n",
        "      JOIN sales_reps s\n",
        "      ON a.sales_rep_id = s.id\n",
        "      JOIN region r\n",
        "      On r.id=s.region_id\n",
        "      GROUP BY 1\n",
        "HAVING SUM(o.total_amt_usd)=      \n",
        "(SELECT MAX(total)\n",
        " FROM\n",
        "   (SELECT r.name AS region,               SUM(o.total_amt_usd) AS total\n",
        "      FROM orders o\n",
        "      JOIN accounts a\n",
        "      ON o.account_id = a.id\n",
        "      JOIN sales_reps s\n",
        "      ON a.sales_rep_id = s.id\n",
        "      JOIN region r\n",
        "      On r.id=s.region_id\n",
        "      GROUP BY 1)sub);\n"
      ],
      "execution_count": null,
      "outputs": []
    },
    {
      "cell_type": "code",
      "metadata": {
        "id": "9ZTXWIUhWYzo"
      },
      "source": [
        "SELECT COUNT(*)\n",
        "FROM\n",
        "(SELECT a.name\n",
        "FROM orders o\n",
        "JOIN accounts a\n",
        "ON a.id= o.account_id\n",
        "GROUP BY 1\n",
        "HAVING SUM(o.total)> (SELECT total_amt\n",
        "    FROM                  \n",
        "   (SELECT a.name, SUM(o.standard_qty) total_orders, SUM(o.total) AS total_amt\n",
        "FROM orders o\n",
        "JOIN accounts a\n",
        "ON a.id=o.account_id\n",
        "GROUP BY 1\n",
        "ORDER BY 2 DESC    \n",
        "LIMIT 1)sub))sub_two;"
      ],
      "execution_count": null,
      "outputs": []
    },
    {
      "cell_type": "code",
      "metadata": {
        "id": "H6smEHhrnY52"
      },
      "source": [
        "SELECT w.channel, a.name, COUNT(*)\n",
        "FROM accounts a\n",
        "JOIN web_events w\n",
        "ON a.id = w.account_id AND a.id= \n",
        "(SELECT id \n",
        "FROM       \n",
        "(SELECT a.id as id, a.name as act_name, SUM(o.total_amt_usd) as total_spent\n",
        "FROM orders o\n",
        "JOIN accounts a\n",
        "ON a.id = o.account_id                      \n",
        "GROUP BY 1,2\n",
        "ORDER BY 3 DESC\n",
        "LIMIT 1) query_one)\n",
        "GROUP BY 1,2\n",
        "ORDER BY 3 DESC;"
      ],
      "execution_count": null,
      "outputs": []
    },
    {
      "cell_type": "code",
      "metadata": {
        "id": "1hdD9YH4nqBW"
      },
      "source": [
        "SELECT AVG(total_spent)                      \n",
        "FROM (SELECT a.name, SUM(o.total_amt_usd) AS total_spent\n",
        "FROM orders o\n",
        "JOIN accounts a\n",
        "ON o.account_id = a.id\n",
        "GROUP BY 1\n",
        "ORDER BY 2 DESC\n",
        "LIMIT 10)sub_query ;"
      ],
      "execution_count": null,
      "outputs": []
    },
    {
      "cell_type": "code",
      "metadata": {
        "id": "xFyaifqhn052"
      },
      "source": [
        "SELECT AVG(avg)\n",
        "FROM                      \n",
        "(SELECT o.account_id, AVG(o.total_amt_usd) as avg\n",
        "FROM orders o\n",
        "GROUP BY 1\n",
        "HAVING AVG(total_amt_usd)> SELECT AVG(o.total_amt_usd) as tot_avg\n",
        "FROM orders o))sub_query;"
      ],
      "execution_count": null,
      "outputs": []
    },
    {
      "cell_type": "code",
      "metadata": {
        "id": "Efc8cmHaOR1R"
      },
      "source": [
        "WITH t1 AS (SELECT r.name AS region, s.name AS    name, SUM(o.total_amt_usd) AS total\n",
        "FROM orders o\n",
        "JOIN accounts a\n",
        "ON o.account_id = a.id\n",
        "JOIN sales_reps s\n",
        "ON a.sales_rep_id = s.id\n",
        "JOIN region r\n",
        "On r.id=s.region_id\n",
        "GROUP BY 1,2\n",
        "ORDER BY 3 DESC),\n",
        "\n",
        "t2 AS (SELECT region, MAX(total) AS total_amt\n",
        "       FROM t1\n",
        "       GROUP BY 1)\n",
        "       \n",
        "SELECT t1.name, t2.region, t2.total_amt\n",
        "FROM t1\n",
        "JOIN t2\n",
        "ON t2.region=t1.region AND t2.total_amt=t1.total;\n"
      ],
      "execution_count": null,
      "outputs": []
    },
    {
      "cell_type": "code",
      "metadata": {
        "id": "pWn0NRGZOe9d"
      },
      "source": [
        "WITH t1 AS (SELECT r.name AS region,                     SUM(o.total_amt_usd) AS total\n",
        "      FROM orders o\n",
        "      JOIN accounts a\n",
        "      ON o.account_id = a.id\n",
        "      JOIN sales_reps s\n",
        "      ON a.sales_rep_id = s.id\n",
        "      JOIN region r\n",
        "      On r.id=s.region_id\n",
        "      GROUP BY 1),\n",
        "      \n",
        "t2 AS (SELECT MAX(total)\n",
        "       FROM t1)\n",
        "       \n",
        " SELECT r.name, COUNT(o.total) as total_count\n",
        "FROM orders o\n",
        "      JOIN accounts a\n",
        "      ON o.account_id = a.id\n",
        "      JOIN sales_reps s\n",
        "      ON a.sales_rep_id = s.id\n",
        "      JOIN region r\n",
        "      On r.id=s.region_id\n",
        "      GROUP BY 1\n",
        "HAVING SUM(o.total_amt_usd) = (SELECT * FROM t2); \n"
      ],
      "execution_count": null,
      "outputs": []
    },
    {
      "cell_type": "code",
      "metadata": {
        "id": "yN8lZhrKOsGp"
      },
      "source": [
        "WITH t1 AS (SELECT a.name, SUM(o.standard_qty) total_orders, SUM(o.total) AS total_amt\n",
        "FROM orders o\n",
        "JOIN accounts a\n",
        "ON a.id=o.account_id\n",
        "GROUP BY 1\n",
        "ORDER BY 2 DESC    \n",
        "LIMIT 1),\n",
        "\n",
        "t3 AS (SELECT a.name\n",
        "FROM orders o\n",
        "JOIN accounts a\n",
        "ON a.id= o.account_id\n",
        "GROUP BY 1\n",
        "HAVING SUM(o.total)>(SELECT total_amt FROM t1))\n",
        "\n",
        "SELECT COUNT(*)\n",
        "FROM t3;\n",
        "                     "
      ],
      "execution_count": null,
      "outputs": []
    }
  ]
}