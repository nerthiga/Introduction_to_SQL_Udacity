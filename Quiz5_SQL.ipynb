{
  "nbformat": 4,
  "nbformat_minor": 0,
  "metadata": {
    "colab": {
      "name": "Quiz5_SQL.ipynb",
      "provenance": [],
      "authorship_tag": "ABX9TyMHNAQ6hNxPAW9zxLcSytj9",
      "include_colab_link": true
    },
    "kernelspec": {
      "name": "python3",
      "display_name": "Python 3"
    }
  },
  "cells": [
    {
      "cell_type": "markdown",
      "metadata": {
        "id": "view-in-github",
        "colab_type": "text"
      },
      "source": [
        "<a href=\"https://colab.research.google.com/github/nerthiga/Introduction_to_SQL_Udacity/blob/main/Quiz5_SQL.ipynb\" target=\"_parent\"><img src=\"https://colab.research.google.com/assets/colab-badge.svg\" alt=\"Open In Colab\"/></a>"
      ]
    },
    {
      "cell_type": "code",
      "metadata": {
        "id": "kdvfcfpRTyg-"
      },
      "source": [
        "SELECT RIGHT(website,3) AS website, COUNT(*) AS num_website\n",
        "FROM accounts\n",
        "GROUP BY 1\n",
        "ORDER BY 2;"
      ],
      "execution_count": null,
      "outputs": []
    },
    {
      "cell_type": "code",
      "metadata": {
        "id": "o_7eMopLUJaX"
      },
      "source": [
        "SELECT LEFT(UPPER(name), 1) AS letter, COUNT(*) AS num_companies\n",
        "FROM accounts\n",
        "GROUP BY 1\n",
        "Order BY 2;"
      ],
      "execution_count": null,
      "outputs": []
    }
  ]
}