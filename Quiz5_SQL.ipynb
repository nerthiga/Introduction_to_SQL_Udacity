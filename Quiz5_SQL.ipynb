{
  "nbformat": 4,
  "nbformat_minor": 0,
  "metadata": {
    "colab": {
      "name": "Quiz5_SQL.ipynb",
      "provenance": [],
      "authorship_tag": "ABX9TyNPp+mh3aAWgclzMn4yiT3+",
      "include_colab_link": true
    },
    "kernelspec": {
      "name": "python3",
      "display_name": "Python 3"
    }
  },
  "cells": [
    {
      "cell_type": "markdown",
      "metadata": {
        "id": "view-in-github",
        "colab_type": "text"
      },
      "source": [
        "<a href=\"https://colab.research.google.com/github/nerthiga/Introduction_to_SQL_Udacity/blob/main/Quiz5_SQL.ipynb\" target=\"_parent\"><img src=\"https://colab.research.google.com/assets/colab-badge.svg\" alt=\"Open In Colab\"/></a>"
      ]
    },
    {
      "cell_type": "code",
      "metadata": {
        "id": "kdvfcfpRTyg-"
      },
      "source": [
        "SELECT RIGHT(website,3) AS website, COUNT(*) AS num_website\n",
        "FROM accounts\n",
        "GROUP BY 1\n",
        "ORDER BY 2;"
      ],
      "execution_count": null,
      "outputs": []
    },
    {
      "cell_type": "code",
      "metadata": {
        "id": "o_7eMopLUJaX"
      },
      "source": [
        "SELECT LEFT(UPPER(name), 1) AS letter, COUNT(*) AS num_companies\n",
        "FROM accounts\n",
        "GROUP BY 1\n",
        "Order BY 2;"
      ],
      "execution_count": null,
      "outputs": []
    },
    {
      "cell_type": "code",
      "metadata": {
        "id": "dAcU5tOlD6cJ"
      },
      "source": [
        "SELECT SUM(num) nums, SUM(letter) letters\n",
        "FROM \n",
        "(SELECT name, CASE WHEN LEFT(UPPER(name),1) IN ('0','1','2','3','4','5','6','7','8','9') THEN 1 ELSE 0 END AS num,\n",
        "CASE WHEN LEFT(UPPER(name),1) NOT IN ('0','1','2','3','4','5','6','7','8','9') THEN 1 ELSE 0 END AS letter\n",
        "FROM accounts)query;"
      ],
      "execution_count": null,
      "outputs": []
    },
    {
      "cell_type": "code",
      "metadata": {
        "id": "fL1diQ8lEHmC"
      },
      "source": [
        "SELECT SUM(vowel) vowel, SUM(non_vowel) non_vowel\n",
        "FROM (SELECT name, CASE WHEN LEFT(UPPER(name),1) IN ('A','E','I','O','U') THEN 1 ELSE 0 END AS vowel, CASE WHEN LEFT(UPPER(name),1) NOT IN ('A','E','I','O','U') THEN 1 ELSE 0 END AS non_vowel\n",
        "FROM accounts)query;\n"
      ],
      "execution_count": null,
      "outputs": []
    },
    {
      "cell_type": "code",
      "metadata": {
        "id": "h_XpddZTEfQd"
      },
      "source": [
        "SELECT LEFT(primary_poc, STRPOS(primary_poc, ' ') -1 ) first_name, \n",
        "RIGHT(primary_poc, LENGTH(primary_poc) - STRPOS(primary_poc, ' ')) last_name\n",
        "FROM accounts;"
      ],
      "execution_count": null,
      "outputs": []
    },
    {
      "cell_type": "code",
      "metadata": {
        "id": "GmTjbUtTPzcO"
      },
      "source": [
        "SELECT name, LEFT(name, POSITION(' ' IN name)-1) AS first_name, RIGHT(name, LENGTH(name)- POSITION(' ' IN name)) AS last_name\n",
        "FROM sales_reps;     "
      ],
      "execution_count": null,
      "outputs": []
    },
    {
      "cell_type": "code",
      "metadata": {
        "id": "R-IT5X2NQC38"
      },
      "source": [
        "SELECT primary_poc, CONCAT(first_name,'.',last_name,'@',name,'.com') AS email_address\n",
        "FROM\n",
        "  (SELECT primary_poc, name, LEFT(primary_poc, STRPOS(primary_poc,' ')-1) AS first_name, RIGHT(primary_poc, LENGTH(primary_poc)-STRPOS(primary_poc,' ')) AS last_name\n",
        "  FROM accounts)query;  "
      ],
      "execution_count": null,
      "outputs": []
    },
    {
      "cell_type": "code",
      "metadata": {
        "id": "zz97BZ1FmuUj"
      },
      "source": [
        "SELECT primary_poc, CONCAT(first_name,'.',last_name,'@',REPLACE(name,' ',''),'.com') AS email_address\n",
        "FROM\n",
        "  (SELECT primary_poc, name, LEFT(primary_poc, STRPOS(primary_poc,' ')-1) AS first_name, RIGHT(primary_poc, LENGTH(primary_poc)-STRPOS(primary_poc,' ')) AS last_name\n",
        "  FROM accounts)query;  "
      ],
      "execution_count": null,
      "outputs": []
    },
    {
      "cell_type": "code",
      "metadata": {
        "id": "YdeteTHIm4rP"
      },
      "source": [
        "WITH t1 as (SELECT primary_poc, name, LEFT(primary_poc, STRPOS(primary_poc,' ')-1) AS first_name, RIGHT(primary_poc, LENGTH(primary_poc)-STRPOS(primary_poc,' ')) AS last_name\n",
        "  FROM accounts)\n",
        "                                                   SELECT first_name, last_name, CONCAT(first_name, '.', last_name, '@', name, '.com'), LEFT(LOWER(first_name), 1) || RIGHT(LOWER(first_name), 1) || LEFT(LOWER(last_name), 1) || RIGHT(LOWER(last_name), 1) || LENGTH(first_name) || LENGTH(last_name) || REPLACE(UPPER(name), ' ', '') AS password\n",
        "FROM t1;                                                      "
      ],
      "execution_count": null,
      "outputs": []
    },
    {
      "cell_type": "code",
      "metadata": {
        "id": "2wgJ5sRB6r61"
      },
      "source": [
        "SELECT *\n",
        "FROM sf_crime_data\n",
        "LIMIT 10;"
      ],
      "execution_count": null,
      "outputs": []
    },
    {
      "cell_type": "code",
      "metadata": {
        "id": "4DEr4Djy69k5"
      },
      "source": [
        "SELECT date AS original_date, (SUBSTR(date,7,4)||'-'||LEFT(date,2)||'-'||SUBSTR(date, 4,2)) AS formatted_date, (SUBSTR(date,7,4)||'-'||LEFT(date,2)||'-'||SUBSTR(date, 4,2))::DATE AS cleaned_date           \n",
        "FROM sf_crime_data;                               "
      ],
      "execution_count": null,
      "outputs": []
    },
    {
      "cell_type": "code",
      "metadata": {
        "id": "ivGFZixte2K-"
      },
      "source": [
        "SELECT *\n",
        "FROM accounts a\n",
        "LEFT JOIN orders o\n",
        "ON a.id = o.account_id\n",
        "WHERE o.total IS NULL;"
      ],
      "execution_count": null,
      "outputs": []
    }
  ]
}