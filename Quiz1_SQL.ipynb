{
  "nbformat": 4,
  "nbformat_minor": 0,
  "metadata": {
    "colab": {
      "name": "Quiz1_SQL.ipynb",
      "provenance": [],
      "authorship_tag": "ABX9TyPOHDkdajeOQdo+BrgrPYLq",
      "include_colab_link": true
    },
    "kernelspec": {
      "name": "python3",
      "display_name": "Python 3"
    }
  },
  "cells": [
    {
      "cell_type": "markdown",
      "metadata": {
        "id": "view-in-github",
        "colab_type": "text"
      },
      "source": [
        "<a href=\"https://colab.research.google.com/github/nerthiga/Introduction_to_SQL_Udacity/blob/main/Quiz1_SQL.ipynb\" target=\"_parent\"><img src=\"https://colab.research.google.com/assets/colab-badge.svg\" alt=\"Open In Colab\"/></a>"
      ]
    },
    {
      "cell_type": "code",
      "metadata": {
        "id": "UHk3wuPaqTGM"
      },
      "source": [
        "Select *\n",
        "From orders;"
      ],
      "execution_count": null,
      "outputs": []
    },
    {
      "cell_type": "code",
      "metadata": {
        "id": "fHhcVn6ssa3T"
      },
      "source": [
        "Select id, account_id, occurred_at\n",
        "From orders;"
      ],
      "execution_count": null,
      "outputs": []
    },
    {
      "cell_type": "code",
      "metadata": {
        "id": "Ai3K8kl_NTYr"
      },
      "source": [
        "SELECT occurred_at, account_id, channel\n",
        "FROM web_events\n",
        "LIMIT 15;"
      ],
      "execution_count": null,
      "outputs": []
    },
    {
      "cell_type": "code",
      "metadata": {
        "id": "huSEaVbJPvoc"
      },
      "source": [
        "SELECT id, occurred_at, total_amt_usd\n",
        "FROM orders\n",
        "ORDER BY occurred_at\n",
        "LIMIT 10;\n"
      ],
      "execution_count": null,
      "outputs": []
    },
    {
      "cell_type": "code",
      "metadata": {
        "id": "x7RfTxLBQ5e3"
      },
      "source": [
        "SELECT id, account_id, total_amt_usd\n",
        "FROM orders\n",
        "ORDER BY total_amt_usd DESC\n",
        "LIMIT 5;"
      ],
      "execution_count": null,
      "outputs": []
    },
    {
      "cell_type": "code",
      "metadata": {
        "id": "XxXeq5ZDRFkp"
      },
      "source": [
        "SELECT id, account_id, total_amt_usd\n",
        "FROM orders\n",
        "ORDER BY total_amt_usd\n",
        "LIMIT 20;"
      ],
      "execution_count": null,
      "outputs": []
    },
    {
      "cell_type": "code",
      "metadata": {
        "id": "3VY6ES8reK0k"
      },
      "source": [
        "SELECT id, account_id, total_amt_usd\n",
        "FROM orders\n",
        "ORDER BY account_id, total_amt_usd DESC;"
      ],
      "execution_count": null,
      "outputs": []
    },
    {
      "cell_type": "code",
      "metadata": {
        "id": "XG6wbfhYeZtB"
      },
      "source": [
        "SELECT id, account_id, total_amt_usd\n",
        "FROM orders\n",
        "ORDER BY total_amt_usd DESC, account_id;"
      ],
      "execution_count": null,
      "outputs": []
    },
    {
      "cell_type": "code",
      "metadata": {
        "id": "5qj2vhIxelee"
      },
      "source": [
        "SELECT *\n",
        "FROM orders\n",
        "WHERE gloss_amt_usd>=1000\n",
        "LIMIT 5;"
      ],
      "execution_count": null,
      "outputs": []
    },
    {
      "cell_type": "code",
      "metadata": {
        "id": "nclIr1eGev6R"
      },
      "source": [
        "SELECT *\n",
        "FROM orders\n",
        "WHERE total_amt_usd<500\n",
        "LIMIT 10;"
      ],
      "execution_count": null,
      "outputs": []
    },
    {
      "cell_type": "code",
      "metadata": {
        "id": "VhmwRvDyfYll"
      },
      "source": [
        "SELECT name, website, primary_poc\n",
        "FROM accounts\n",
        "WHERE name='Exxon Mobil';"
      ],
      "execution_count": null,
      "outputs": []
    }
  ]
}