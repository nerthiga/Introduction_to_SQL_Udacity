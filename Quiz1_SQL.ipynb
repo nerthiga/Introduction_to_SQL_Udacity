{
  "nbformat": 4,
  "nbformat_minor": 0,
  "metadata": {
    "colab": {
      "name": "Quiz1_SQL.ipynb",
      "provenance": []
    },
    "kernelspec": {
      "name": "python3",
      "display_name": "Python 3"
    }
  },
  "cells": [
    {
      "cell_type": "code",
      "metadata": {
        "id": "UHk3wuPaqTGM"
      },
      "source": [
        "Select *\n",
        "From orders;"
      ],
      "execution_count": null,
      "outputs": []
    }
  ]
}