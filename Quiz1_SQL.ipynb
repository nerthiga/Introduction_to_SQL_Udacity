{
  "nbformat": 4,
  "nbformat_minor": 0,
  "metadata": {
    "colab": {
      "name": "Quiz1_SQL.ipynb",
      "provenance": [],
      "authorship_tag": "ABX9TyNqkluY4c8EZyHPMGz954vX",
      "include_colab_link": true
    },
    "kernelspec": {
      "name": "python3",
      "display_name": "Python 3"
    }
  },
  "cells": [
    {
      "cell_type": "markdown",
      "metadata": {
        "id": "view-in-github",
        "colab_type": "text"
      },
      "source": [
        "<a href=\"https://colab.research.google.com/github/nerthiga/Introduction_to_SQL_Udacity/blob/main/Quiz1_SQL.ipynb\" target=\"_parent\"><img src=\"https://colab.research.google.com/assets/colab-badge.svg\" alt=\"Open In Colab\"/></a>"
      ]
    },
    {
      "cell_type": "code",
      "metadata": {
        "id": "UHk3wuPaqTGM"
      },
      "source": [
        "Select *\n",
        "From orders;"
      ],
      "execution_count": null,
      "outputs": []
    },
    {
      "cell_type": "code",
      "metadata": {
        "id": "fHhcVn6ssa3T"
      },
      "source": [
        "Select id, account_id, occurred_at\n",
        "From orders;"
      ],
      "execution_count": null,
      "outputs": []
    },
    {
      "cell_type": "code",
      "metadata": {
        "id": "Ai3K8kl_NTYr"
      },
      "source": [
        "SELECT occurred_at, account_id, channel\n",
        "FROM web_events\n",
        "LIMIT 15;"
      ],
      "execution_count": null,
      "outputs": []
    }
  ]
}