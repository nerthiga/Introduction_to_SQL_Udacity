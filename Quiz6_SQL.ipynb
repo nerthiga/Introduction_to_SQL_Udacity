{
  "nbformat": 4,
  "nbformat_minor": 0,
  "metadata": {
    "colab": {
      "name": "Quiz6_SQL.ipynb",
      "provenance": [],
      "authorship_tag": "ABX9TyNzD04FPkrgEAI9cGyu8hFn",
      "include_colab_link": true
    },
    "kernelspec": {
      "name": "python3",
      "display_name": "Python 3"
    }
  },
  "cells": [
    {
      "cell_type": "markdown",
      "metadata": {
        "id": "view-in-github",
        "colab_type": "text"
      },
      "source": [
        "<a href=\"https://colab.research.google.com/github/nerthiga/Introduction_to_SQL_Udacity/blob/main/Quiz6_SQL.ipynb\" target=\"_parent\"><img src=\"https://colab.research.google.com/assets/colab-badge.svg\" alt=\"Open In Colab\"/></a>"
      ]
    },
    {
      "cell_type": "code",
      "metadata": {
        "id": "0gowvzln5vz0"
      },
      "source": [
        "SELECT standard_amt_usd, SUM(standard_amt_usd) OVER (ORDER BY occurred_at) as running_total\n",
        "FROM orders;"
      ],
      "execution_count": null,
      "outputs": []
    },
    {
      "cell_type": "code",
      "metadata": {
        "id": "zK6t3aHm6Hyy"
      },
      "source": [
        "SELECT standard_amt_usd, DATE_TRUNC('year',occurred_at) as year, SUM(standard_amt_usd) OVER (PARTITION BY DATE_TRUNC('year',occurred_at) ORDER BY occurred_at) as running_total\n",
        "FROM orders;"
      ],
      "execution_count": null,
      "outputs": []
    }
  ]
}