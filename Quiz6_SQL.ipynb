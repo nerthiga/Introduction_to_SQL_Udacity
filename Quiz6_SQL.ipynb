{
  "nbformat": 4,
  "nbformat_minor": 0,
  "metadata": {
    "colab": {
      "name": "Quiz6_SQL.ipynb",
      "provenance": [],
      "authorship_tag": "ABX9TyNo1fRvwjXJ3uXd9MoaASs2",
      "include_colab_link": true
    },
    "kernelspec": {
      "name": "python3",
      "display_name": "Python 3"
    }
  },
  "cells": [
    {
      "cell_type": "markdown",
      "metadata": {
        "id": "view-in-github",
        "colab_type": "text"
      },
      "source": [
        "<a href=\"https://colab.research.google.com/github/nerthiga/Introduction_to_SQL_Udacity/blob/main/Quiz6_SQL.ipynb\" target=\"_parent\"><img src=\"https://colab.research.google.com/assets/colab-badge.svg\" alt=\"Open In Colab\"/></a>"
      ]
    },
    {
      "cell_type": "code",
      "metadata": {
        "id": "0gowvzln5vz0"
      },
      "source": [
        "SELECT standard_amt_usd, SUM(standard_amt_usd) OVER (ORDER BY occurred_at) as running_total\n",
        "FROM orders;"
      ],
      "execution_count": null,
      "outputs": []
    },
    {
      "cell_type": "code",
      "metadata": {
        "id": "zK6t3aHm6Hyy"
      },
      "source": [
        "SELECT standard_amt_usd, DATE_TRUNC('year',occurred_at) as year, SUM(standard_amt_usd) OVER (PARTITION BY DATE_TRUNC('year',occurred_at) ORDER BY occurred_at) as running_total\n",
        "FROM orders;"
      ],
      "execution_count": null,
      "outputs": []
    },
    {
      "cell_type": "code",
      "metadata": {
        "id": "CBqrEyfd6nQK"
      },
      "source": [
        "SELECT id, account_id, total, RANK() OVER (PARTITION BY account_id ORDER BY total) as total_rank\n",
        "FROM orders;"
      ],
      "execution_count": null,
      "outputs": []
    },
    {
      "cell_type": "code",
      "metadata": {
        "id": "az20atcj5Caa"
      },
      "source": [
        "SELECT id,\n",
        "       account_id,\n",
        "       standard_qty,\n",
        "       DATE_TRUNC('month', occurred_at) AS month,\n",
        "       DENSE_RANK() OVER (PARTITION BY account_id ORDER BY DATE_TRUNC('month',occurred_at)) AS dense_rank,\n",
        "       SUM(standard_qty) OVER (PARTITION BY account_id ORDER BY DATE_TRUNC('month',occurred_at)) AS sum_std_qty,\n",
        "       COUNT(standard_qty) OVER (PARTITION BY account_id ORDER BY DATE_TRUNC('month',occurred_at)) AS count_std_qty,\n",
        "       AVG(standard_qty) OVER (PARTITION BY account_id ORDER BY DATE_TRUNC('month',occurred_at)) AS avg_std_qty,\n",
        "       MIN(standard_qty) OVER (PARTITION BY account_id ORDER BY DATE_TRUNC('month',occurred_at)) AS min_std_qty,\n",
        "       MAX(standard_qty) OVER (PARTITION BY account_id ORDER BY DATE_TRUNC('month',occurred_at)) AS max_std_qty\n",
        "FROM orders"
      ],
      "execution_count": null,
      "outputs": []
    },
    {
      "cell_type": "code",
      "metadata": {
        "id": "ssPM_FMh5Oux"
      },
      "source": [
        "SELECT id,\n",
        "       account_id,\n",
        "       DATE_TRUNC('year',occurred_at) AS year,\n",
        "       DENSE_RANK() OVER account_year_window AS dense_rank,\n",
        "       total_amt_usd,\n",
        "       SUM(total_amt_usd) OVER account_year_window AS sum_total_amt_usd,\n",
        "       COUNT(total_amt_usd) OVER account_year_window AS count_total_amt_usd,\n",
        "       AVG(total_amt_usd) OVER account_year_window AS avg_total_amt_usd,\n",
        "       MIN(total_amt_usd) OVER account_year_window AS min_total_amt_usd,\n",
        "       MAX(total_amt_usd) OVER account_year_window AS max_total_amt_usd\n",
        "FROM orders\n",
        "WINDOW account_year_window AS  (PARTITION BY account_id ORDER BY DATE_TRUNC('year',occurred_at))                                                                           "
      ],
      "execution_count": null,
      "outputs": []
    },
    {
      "cell_type": "code",
      "metadata": {
        "id": "4b5q7fS-Zm4z"
      },
      "source": [
        "SELECT occurred_at, total_amt_usd,\n",
        "       LEAD(total_amt_usd) OVER (ORDER BY total_amt_usd) AS lead,\n",
        "       LEAD(total_amt_usd) OVER (ORDER BY total_amt_usd) - total_amt_usd AS lead_difference\n",
        "FROM (\n",
        "SELECT occurred_at,\n",
        "       SUM(total_amt_usd) AS total_amt_usd\n",
        "  FROM orders \n",
        " GROUP BY 1\n",
        " ) sub"
      ],
      "execution_count": null,
      "outputs": []
    },
    {
      "cell_type": "code",
      "metadata": {
        "id": "_ZD4fxdxZ9ap"
      },
      "source": [
        "SELECT account_id, occurred_at, standard_qty, NTILE(4)OVER(PARTITION BY account_id ORDER BY standard_qty) as quartile\n",
        "FROM orders \n",
        "ORDER BY account_id DESC;"
      ],
      "execution_count": null,
      "outputs": []
    },
    {
      "cell_type": "code",
      "metadata": {
        "id": "-vsQdpkAiZ4I"
      },
      "source": [
        "SELECT account_id, occurred_at, gloss_qty, NTILE(2)OVER(PARTITION BY account_id ORDER BY gloss_qty) as gloss_half\n",
        "FROM orders \n",
        "ORDER BY account_id DESC;"
      ],
      "execution_count": null,
      "outputs": []
    },
    {
      "cell_type": "code",
      "metadata": {
        "id": "e4MQ69gLil_Y"
      },
      "source": [
        "SELECT account_id, occurred_at, total_amt_usd, NTILE(100)OVER(PARTITION BY account_id ORDER BY total_amt_usd) as total_percentile\n",
        "FROM orders \n",
        "ORDER BY account_id DESC;"
      ],
      "execution_count": null,
      "outputs": []
    }
  ]
}