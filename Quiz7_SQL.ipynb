{
  "nbformat": 4,
  "nbformat_minor": 0,
  "metadata": {
    "colab": {
      "name": "Quiz7_SQL.ipynb",
      "provenance": [],
      "authorship_tag": "ABX9TyOsNbd++5ypOkapR1Z5gTGN",
      "include_colab_link": true
    },
    "kernelspec": {
      "name": "python3",
      "display_name": "Python 3"
    }
  },
  "cells": [
    {
      "cell_type": "markdown",
      "metadata": {
        "id": "view-in-github",
        "colab_type": "text"
      },
      "source": [
        "<a href=\"https://colab.research.google.com/github/nerthiga/Introduction_to_SQL_Udacity/blob/main/Quiz7_SQL.ipynb\" target=\"_parent\"><img src=\"https://colab.research.google.com/assets/colab-badge.svg\" alt=\"Open In Colab\"/></a>"
      ]
    },
    {
      "cell_type": "code",
      "metadata": {
        "id": "WsIc5loS3W-Y"
      },
      "source": [
        "SELECT *\n",
        "FROM accounts\n",
        "FULL OUTER JOIN sales_reps\n",
        "ON accounts.sales_rep_id = sales_reps.id"
      ],
      "execution_count": null,
      "outputs": []
    },
    {
      "cell_type": "code",
      "metadata": {
        "id": "9bhfa3wj37ej"
      },
      "source": [
        "SELECT a.name as account, a.primary_poc, s.name as sales_rep\n",
        "FROM accounts a\n",
        "LEFT JOIN sales_reps s\n",
        "ON a.sales_rep_id = s.id AND a.primary_poc < s.name\n"
      ],
      "execution_count": null,
      "outputs": []
    }
  ]
}