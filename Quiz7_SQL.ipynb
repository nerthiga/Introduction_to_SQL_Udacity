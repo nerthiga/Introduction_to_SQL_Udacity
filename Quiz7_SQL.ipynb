{
  "nbformat": 4,
  "nbformat_minor": 0,
  "metadata": {
    "colab": {
      "name": "Quiz7_SQL.ipynb",
      "provenance": [],
      "authorship_tag": "ABX9TyM63EXAn1D63gszNXtt42Gr",
      "include_colab_link": true
    },
    "kernelspec": {
      "name": "python3",
      "display_name": "Python 3"
    }
  },
  "cells": [
    {
      "cell_type": "markdown",
      "metadata": {
        "id": "view-in-github",
        "colab_type": "text"
      },
      "source": [
        "<a href=\"https://colab.research.google.com/github/nerthiga/Introduction_to_SQL_Udacity/blob/main/Quiz7_SQL.ipynb\" target=\"_parent\"><img src=\"https://colab.research.google.com/assets/colab-badge.svg\" alt=\"Open In Colab\"/></a>"
      ]
    },
    {
      "cell_type": "code",
      "metadata": {
        "id": "WsIc5loS3W-Y"
      },
      "source": [
        "SELECT *\n",
        "FROM accounts\n",
        "FULL OUTER JOIN sales_reps\n",
        "ON accounts.sales_rep_id = sales_reps.id"
      ],
      "execution_count": null,
      "outputs": []
    },
    {
      "cell_type": "code",
      "metadata": {
        "id": "9bhfa3wj37ej"
      },
      "source": [
        "SELECT a.name as account, a.primary_poc, s.name as sales_rep\n",
        "FROM accounts a\n",
        "LEFT JOIN sales_reps s\n",
        "ON a.sales_rep_id = s.id AND a.primary_poc < s.name\n"
      ],
      "execution_count": null,
      "outputs": []
    },
    {
      "cell_type": "code",
      "metadata": {
        "id": "gNhyoFtB7IFD"
      },
      "source": [
        "SELECT w1.id AS w1_id,\n",
        "       w1.account_id AS w1_account_id,\n",
        "       w1.occurred_at AS w1_occurred_at,\n",
        "       w1.channel AS w1_channel,\n",
        "       w2.id AS w2_id,\n",
        "       w2.account_id AS w2_account_id,\n",
        "       w2.occurred_at AS w2_occurred_at,\n",
        "       w2.channel AS w2_channel\n",
        "  FROM web_events w1\n",
        " LEFT JOIN web_events w2\n",
        "   ON w1.account_id = w2.account_id\n",
        "  AND w2.occurred_at > w1.occurred_at\n",
        "  AND w2.occurred_at <= w1.occurred_at + INTERVAL '1 day'\n",
        "ORDER BY w1.account_id, w1.occurred_at"
      ],
      "execution_count": null,
      "outputs": []
    },
    {
      "cell_type": "code",
      "metadata": {
        "id": "z0xtoghJ7fNd"
      },
      "source": [
        "SELECT *\n",
        "FROM accounts\n",
        "\n",
        "UNION ALL\n",
        "\n",
        "SELECT *\n",
        "FROM accounts;"
      ],
      "execution_count": null,
      "outputs": []
    }
  ]
}