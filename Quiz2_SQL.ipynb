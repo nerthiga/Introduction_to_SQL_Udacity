{
  "nbformat": 4,
  "nbformat_minor": 0,
  "metadata": {
    "colab": {
      "name": "Quiz2_SQL.ipynb",
      "provenance": [],
      "authorship_tag": "ABX9TyN9HYjwfI/qDD1qmYENz5aV",
      "include_colab_link": true
    },
    "kernelspec": {
      "name": "python3",
      "display_name": "Python 3"
    }
  },
  "cells": [
    {
      "cell_type": "markdown",
      "metadata": {
        "id": "view-in-github",
        "colab_type": "text"
      },
      "source": [
        "<a href=\"https://colab.research.google.com/github/nerthiga/Introduction_to_SQL_Udacity/blob/main/Quiz2_SQL.ipynb\" target=\"_parent\"><img src=\"https://colab.research.google.com/assets/colab-badge.svg\" alt=\"Open In Colab\"/></a>"
      ]
    },
    {
      "cell_type": "code",
      "metadata": {
        "id": "pyf7On4iQFEi"
      },
      "source": [
        "SELECT orders.*\n",
        "FROM orders\n",
        "JOIN accounts\n",
        "ON orders.account_id = accounts.id;\n",
        "\n",
        "\n"
      ],
      "execution_count": null,
      "outputs": []
    },
    {
      "cell_type": "code",
      "metadata": {
        "id": "byru_GcYE1Tg"
      },
      "source": [
        "SELECT w.occurred_at, w.channel, a.primary_poc, a.name\n",
        "FROM web_events w\n",
        "JOIN accounts a\n",
        "ON w.account_id = a.id\n",
        "WHERE a.name = 'Walmart';\n"
      ],
      "execution_count": null,
      "outputs": []
    },
    {
      "cell_type": "code",
      "metadata": {
        "id": "OJjCgZbFFmOg"
      },
      "source": [
        "SELECT s.name rep, r.name region, a.name account\n",
        "FROM sales_reps s\n",
        "JOIN region r\n",
        "ON s.region_id = r.id\n",
        "JOIN accounts a\n",
        "ON s.id = a.sales_rep_id\n",
        "ORDER BY a.name;"
      ],
      "execution_count": null,
      "outputs": []
    },
    {
      "cell_type": "code",
      "metadata": {
        "id": "pCPzgEabFzLf"
      },
      "source": [
        "SELECT r.name region, a.name account, o.total_amt_usd/(o.total+0.01) unit_price\n",
        "FROM orders o\n",
        "JOIN accounts a\n",
        "ON o.account_id = a.id\n",
        "JOIN sales_reps s\n",
        "ON a.sales_rep_id = s.id\n",
        "JOIN region r\n",
        "ON s.region_id = r.id;\n"
      ],
      "execution_count": null,
      "outputs": []
    },
    {
      "cell_type": "code",
      "metadata": {
        "id": "hpgZbTgTSfiJ"
      },
      "source": [
        "SELECT r.name region_name, s.name sales_rep_name, a.name account_name\n",
        "FROM region r\n",
        "JOIN sales_reps s\n",
        "ON r.id = s.region_id\n",
        "JOIN accounts a\n",
        "ON s.id = a. sales_rep_id\n",
        "WHERE r.name = 'Midwest'\n",
        "ORDER BY a.name;"
      ],
      "execution_count": null,
      "outputs": []
    },
    {
      "cell_type": "code",
      "metadata": {
        "id": "7LsS8yMsSw5V"
      },
      "source": [
        "SELECT r.name region_name, s.name sales_rep_name, a.name account_name\n",
        "FROM region r\n",
        "JOIN sales_reps s\n",
        "ON r.id = s.region_id\n",
        "JOIN accounts a\n",
        "ON s.id = a. sales_rep_id\n",
        "WHERE s.name LIKE 'S%' AND r.name = 'Midwest'\n",
        "ORDER BY a.name;"
      ],
      "execution_count": null,
      "outputs": []
    },
    {
      "cell_type": "code",
      "metadata": {
        "id": "XrnZmKpXS_OX"
      },
      "source": [
        "SELECT r.name region_name, s.name sales_rep_name, a.name account_name\n",
        "FROM region r\n",
        "JOIN sales_reps s\n",
        "ON r.id = s.region_id\n",
        "JOIN accounts a\n",
        "ON s.id = a. sales_rep_id\n",
        "WHERE r.name = 'Midwest' AND s.name LIKE '% K%'\n",
        "ORDER BY a.name;"
      ],
      "execution_count": null,
      "outputs": []
    }
  ]
}