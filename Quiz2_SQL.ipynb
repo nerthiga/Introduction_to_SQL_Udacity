{
  "nbformat": 4,
  "nbformat_minor": 0,
  "metadata": {
    "colab": {
      "name": "Quiz2_SQL.ipynb",
      "provenance": [],
      "authorship_tag": "ABX9TyM87DOgCXFFInamlJSQT5mP",
      "include_colab_link": true
    },
    "kernelspec": {
      "name": "python3",
      "display_name": "Python 3"
    }
  },
  "cells": [
    {
      "cell_type": "markdown",
      "metadata": {
        "id": "view-in-github",
        "colab_type": "text"
      },
      "source": [
        "<a href=\"https://colab.research.google.com/github/nerthiga/Introduction_to_SQL_Udacity/blob/main/Quiz2_SQL.ipynb\" target=\"_parent\"><img src=\"https://colab.research.google.com/assets/colab-badge.svg\" alt=\"Open In Colab\"/></a>"
      ]
    },
    {
      "cell_type": "code",
      "metadata": {
        "id": "pyf7On4iQFEi"
      },
      "source": [
        "SELECT orders.*\n",
        "FROM orders\n",
        "JOIN accounts\n",
        "ON orders.account_id = accounts.id;\n",
        "\n",
        "\n"
      ],
      "execution_count": null,
      "outputs": []
    },
    {
      "cell_type": "code",
      "metadata": {
        "id": "byru_GcYE1Tg"
      },
      "source": [
        "SELECT w.occurred_at, w.channel, a.primary_poc, a.name\n",
        "FROM web_events w\n",
        "JOIN accounts a\n",
        "ON w.account_id = a.id\n",
        "WHERE a.name = 'Walmart';\n"
      ],
      "execution_count": null,
      "outputs": []
    }
  ]
}