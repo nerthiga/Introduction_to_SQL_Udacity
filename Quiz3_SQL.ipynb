{
  "nbformat": 4,
  "nbformat_minor": 0,
  "metadata": {
    "colab": {
      "name": "Quiz3_SQL.ipynb",
      "provenance": [],
      "authorship_tag": "ABX9TyM9mPlhJhKZ4g24O1/R7asl",
      "include_colab_link": true
    },
    "kernelspec": {
      "name": "python3",
      "display_name": "Python 3"
    }
  },
  "cells": [
    {
      "cell_type": "markdown",
      "metadata": {
        "id": "view-in-github",
        "colab_type": "text"
      },
      "source": [
        "<a href=\"https://colab.research.google.com/github/nerthiga/Introduction_to_SQL_Udacity/blob/main/Quiz3_SQL.ipynb\" target=\"_parent\"><img src=\"https://colab.research.google.com/assets/colab-badge.svg\" alt=\"Open In Colab\"/></a>"
      ]
    },
    {
      "cell_type": "code",
      "metadata": {
        "id": "qaj5yrXqC4wx"
      },
      "source": [
        "SELECT COUNT (*) AS web_event_count\n",
        "FROM web_events;"
      ],
      "execution_count": null,
      "outputs": []
    },
    {
      "cell_type": "code",
      "metadata": {
        "id": "TRaA7gG8DK1g"
      },
      "source": [
        "SELECT COUNT (*) AS sales_rep_count\n",
        "FROM sales_reps;"
      ],
      "execution_count": null,
      "outputs": []
    },
    {
      "cell_type": "code",
      "metadata": {
        "id": "1IM8dPeqDYUt"
      },
      "source": [
        "SELECT COUNT (*) AS region_count\n",
        "FROM region;"
      ],
      "execution_count": null,
      "outputs": []
    },
    {
      "cell_type": "code",
      "metadata": {
        "id": "KnuyOcIpT2kF"
      },
      "source": [
        "SELECT SUM(poster_qty)\n",
        "FROM orders;\n"
      ],
      "execution_count": null,
      "outputs": []
    },
    {
      "cell_type": "code",
      "metadata": {
        "id": "0OLFz869UETs"
      },
      "source": [
        "SELECT SUM(standard_qty)\n",
        "FROM orders;"
      ],
      "execution_count": null,
      "outputs": []
    },
    {
      "cell_type": "code",
      "metadata": {
        "id": "IQlQ5-YKUQbm"
      },
      "source": [
        "SELECT SUM(total_amt_usd)\n",
        "FROM orders;\n"
      ],
      "execution_count": null,
      "outputs": []
    },
    {
      "cell_type": "code",
      "metadata": {
        "id": "yRI0ocGBUeDY"
      },
      "source": [
        "SELECT standard_amt_usd + gloss_amt_usd AS total\n",
        "FROM orders;"
      ],
      "execution_count": null,
      "outputs": []
    },
    {
      "cell_type": "code",
      "metadata": {
        "id": "_Oi6QjaoUrfW"
      },
      "source": [
        "SELECT SUM(standard_amt_usd)/SUM(standard_qty) AS amount_per_unit\n",
        "FROM orders;\n"
      ],
      "execution_count": null,
      "outputs": []
    },
    {
      "cell_type": "code",
      "metadata": {
        "id": "QV8k4cXDgxUC"
      },
      "source": [
        "SELECT MIN(occurred_at) AS earliest_date\n",
        "FROM orders;"
      ],
      "execution_count": null,
      "outputs": []
    },
    {
      "cell_type": "code",
      "metadata": {
        "id": "plLbM08cg_Xm"
      },
      "source": [
        "SELECT occurred_at\n",
        "FROM orders\n",
        "ORDER BY occurred_at\n",
        "LIMIT 1;"
      ],
      "execution_count": null,
      "outputs": []
    },
    {
      "cell_type": "code",
      "metadata": {
        "id": "UqvivROUhNy0"
      },
      "source": [
        "SELECT MAX(occurred_at) AS latest_date\n",
        "FROM web_events;"
      ],
      "execution_count": null,
      "outputs": []
    },
    {
      "cell_type": "code",
      "metadata": {
        "id": "APD5PYtfNCyp"
      },
      "source": [
        "SELECT occurred_at\n",
        "FROM web_events\n",
        "ORDER BY occurred_at DESC\n",
        "LIMIT 1;\n"
      ],
      "execution_count": null,
      "outputs": []
    },
    {
      "cell_type": "code",
      "metadata": {
        "id": "vo3aUoG_pxkR"
      },
      "source": [
        "SELECT AVG(standard_qty) AS standard_average, AVG(gloss_qty) AS gloss_avg, AVG(poster_qty) AS poster_avg, AVG(standard_amt_usd) AS standard_amt_avg, AVG(gloss_amt_usd) AS gloss_amt_avg, AVG(poster_amt_usd) AS poster_amt_avg\n",
        "FROM orders;\n"
      ],
      "execution_count": null,
      "outputs": []
    },
    {
      "cell_type": "code",
      "metadata": {
        "id": "QY_7Dpqmp6xE"
      },
      "source": [
        "SELECT a.name, o.occurred_at\n",
        "FROM orders o\n",
        "JOIN accounts a\n",
        "ON o.account_id = a.id\n",
        "ORDER BY o.occurred_at\n",
        "LIMIT 1;"
      ],
      "execution_count": null,
      "outputs": []
    },
    {
      "cell_type": "code",
      "metadata": {
        "id": "afnlQwlzZ738"
      },
      "source": [
        "SELECT a.name, SUM(o.total_amt_usd)\n",
        "FROM orders o\n",
        "JOIN accounts a\n",
        "ON o.account_id = a.id\n",
        "GROUP BY a.name;"
      ],
      "execution_count": null,
      "outputs": []
    },
    {
      "cell_type": "code",
      "metadata": {
        "id": "V6JEqYWAaGYq"
      },
      "source": [
        "SELECT w.channel, w.occurred_at, a.name\n",
        "FROM accounts a\n",
        "JOIN web_events w\n",
        "ON w.account_id = a.id\n",
        "ORDER BY w.occurred_at DESC\n",
        "LIMIT 1;"
      ],
      "execution_count": null,
      "outputs": []
    },
    {
      "cell_type": "code",
      "metadata": {
        "id": "nq0uGv-qaQE2"
      },
      "source": [
        "SELECT w.channel, COUNT(channel)\n",
        "FROM web_events w\n",
        "GROUP BY w.channel;"
      ],
      "execution_count": null,
      "outputs": []
    },
    {
      "cell_type": "code",
      "metadata": {
        "id": "MPlZCnnMamEI"
      },
      "source": [
        "SELECT a.primary_poc\n",
        "FROM accounts a\n",
        "JOIN web_events w\n",
        "ON w.account_id = a.id\n",
        "ORDER BY w.occurred_at\n",
        "LIMIT 1;"
      ],
      "execution_count": null,
      "outputs": []
    },
    {
      "cell_type": "code",
      "metadata": {
        "id": "6s42_Sk2qYzO"
      },
      "source": [
        "SELECT a.name, MIN(o.total_amt_usd) AS minimum_amount\n",
        "FROM accounts a\n",
        "JOIN orders o\n",
        "ON a.id = o.account_id\n",
        "GROUP BY a.name\n",
        "ORDER BY minimum_amount;"
      ],
      "execution_count": null,
      "outputs": []
    },
    {
      "cell_type": "code",
      "metadata": {
        "id": "1M1IkgkFqkl9"
      },
      "source": [
        "SELECT r.name, COUNT(s.name) as sales_reps\n",
        "FROM region r\n",
        "JOIN sales_reps s\n",
        "ON r.id = s.region_id\n",
        "GROUP BY r.name\n",
        "ORDER BY sales_reps;"
      ],
      "execution_count": null,
      "outputs": []
    },
    {
      "cell_type": "code",
      "metadata": {
        "id": "WYEeyBOnqw_7"
      },
      "source": [
        "SELECT a.name, AVG(o.standard_qty) AS mean_standard, AVG(o.gloss_qty) AS mean_gloss, AVG(o.poster_qty) AS mean_poster\n",
        "FROM orders o\n",
        "JOIN accounts a\n",
        "ON o.account_id = a.id\n",
        "GROUP BY a.name; "
      ],
      "execution_count": null,
      "outputs": []
    }
  ]
}