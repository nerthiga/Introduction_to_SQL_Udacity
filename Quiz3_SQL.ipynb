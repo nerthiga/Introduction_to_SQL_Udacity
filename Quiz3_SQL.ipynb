{
  "nbformat": 4,
  "nbformat_minor": 0,
  "metadata": {
    "colab": {
      "name": "Quiz3_SQL.ipynb",
      "provenance": [],
      "authorship_tag": "ABX9TyP7/xpm6qbFdrpLxr8Xe4dq",
      "include_colab_link": true
    },
    "kernelspec": {
      "name": "python3",
      "display_name": "Python 3"
    }
  },
  "cells": [
    {
      "cell_type": "markdown",
      "metadata": {
        "id": "view-in-github",
        "colab_type": "text"
      },
      "source": [
        "<a href=\"https://colab.research.google.com/github/nerthiga/Introduction_to_SQL_Udacity/blob/main/Quiz3_SQL.ipynb\" target=\"_parent\"><img src=\"https://colab.research.google.com/assets/colab-badge.svg\" alt=\"Open In Colab\"/></a>"
      ]
    },
    {
      "cell_type": "code",
      "metadata": {
        "id": "qaj5yrXqC4wx"
      },
      "source": [
        "SELECT COUNT (*) AS web_event_count\n",
        "FROM web_events;"
      ],
      "execution_count": null,
      "outputs": []
    },
    {
      "cell_type": "code",
      "metadata": {
        "id": "TRaA7gG8DK1g"
      },
      "source": [
        "SELECT COUNT (*) AS sales_rep_count\n",
        "FROM sales_reps;"
      ],
      "execution_count": null,
      "outputs": []
    },
    {
      "cell_type": "code",
      "metadata": {
        "id": "1IM8dPeqDYUt"
      },
      "source": [
        "SELECT COUNT (*) AS region_count\n",
        "FROM region;"
      ],
      "execution_count": null,
      "outputs": []
    },
    {
      "cell_type": "code",
      "metadata": {
        "id": "KnuyOcIpT2kF"
      },
      "source": [
        "SELECT SUM(poster_qty)\n",
        "FROM orders;\n"
      ],
      "execution_count": null,
      "outputs": []
    },
    {
      "cell_type": "code",
      "metadata": {
        "id": "0OLFz869UETs"
      },
      "source": [
        "SELECT SUM(standard_qty)\n",
        "FROM orders;"
      ],
      "execution_count": null,
      "outputs": []
    },
    {
      "cell_type": "code",
      "metadata": {
        "id": "IQlQ5-YKUQbm"
      },
      "source": [
        "SELECT SUM(total_amt_usd)\n",
        "FROM orders;\n"
      ],
      "execution_count": null,
      "outputs": []
    }
  ]
}